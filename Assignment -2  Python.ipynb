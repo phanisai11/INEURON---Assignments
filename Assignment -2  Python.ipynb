{
 "cells": [
  {
   "cell_type": "code",
   "execution_count": 4,
   "metadata": {},
   "outputs": [
    {
     "name": "stdout",
     "output_type": "stream",
     "text": [
      "4\n",
      "5\n",
      "6\n",
      "9.921567416492215\n"
     ]
    }
   ],
   "source": [
    "#Task -2\n",
    "#1.1\n",
    "def Cal(a,b,c):\n",
    "        s = (a+b+c)/2\n",
    "        area = (s*(s-a)*(s-b)*(s-c)) ** 0.5    \n",
    "        print(area)\n",
    "a = int(input())\n",
    "b = int(input())\n",
    "c = int(input())\n",
    "Cal(a,b,c)"
   ]
  },
  {
   "cell_type": "code",
   "execution_count": 5,
   "metadata": {},
   "outputs": [
    {
     "name": "stdout",
     "output_type": "stream",
     "text": [
      "3\n",
      "hi\n",
      "HEloo\n",
      "hahaha\n",
      "6\n"
     ]
    }
   ],
   "source": [
    "#1.2\n",
    "l=[]\n",
    "def filter_long_words(l):\n",
    "    count1=0\n",
    "    for i in range(0,n):\n",
    "        if(len(l[i])>count1):\n",
    "            count1 = len(l[i])\n",
    "        i=i+1\n",
    "    print(count1)\n",
    "\n",
    "n = int(input())    \n",
    "for i in range(0,n):\n",
    "    s = str(input())\n",
    "    l.append(s)\n",
    "filter_long_words(l)"
   ]
  },
  {
   "cell_type": "code",
   "execution_count": 6,
   "metadata": {},
   "outputs": [
    {
     "name": "stdout",
     "output_type": "stream",
     "text": [
      "3\n",
      "hi\n",
      "how\n",
      "what\n",
      "hi\n",
      "how\n",
      "what\n",
      "[2, 3, 4]\n"
     ]
    }
   ],
   "source": [
    "#2.1\n",
    "def count(n): \n",
    "    print(n)\n",
    "    return len(n)\n",
    "  \n",
    "n = int(input())  \n",
    "l=[]\n",
    "for i in range(0,n):\n",
    "    s = str(input())\n",
    "    l.append(s) \n",
    "result = map(count,l) \n",
    "print(list(result))"
   ]
  },
  {
   "cell_type": "code",
   "execution_count": 7,
   "metadata": {},
   "outputs": [
    {
     "name": "stdout",
     "output_type": "stream",
     "text": [
      "a\n"
     ]
    },
    {
     "data": {
      "text/plain": [
       "True"
      ]
     },
     "execution_count": 7,
     "metadata": {},
     "output_type": "execute_result"
    }
   ],
   "source": [
    "#2.2\n",
    "def types(s):\n",
    "    if('a'==s or 'e'==s or 'i'==s or 'o'==s or 'u'==s ):\n",
    "        return True\n",
    "    else:\n",
    "        return False\n",
    "s = str(input())\n",
    "types(s)"
   ]
  },
  {
   "cell_type": "code",
   "execution_count": 8,
   "metadata": {},
   "outputs": [
    {
     "name": "stdout",
     "output_type": "stream",
     "text": [
      "3\n",
      "eager\n",
      "ineuron\n",
      "datascience\n",
      "datascience\n"
     ]
    }
   ],
   "source": [
    "#Task 1\n",
    "#3\n",
    "l=[]\n",
    "def filter_long_words(l):\n",
    "    count1=0\n",
    "    for i in range(0,n):\n",
    "        if(len(l[i])>count1):\n",
    "            count1 = len(l[i])\n",
    "            i1=i\n",
    "        i=i+1\n",
    "    print(l[i1])\n",
    "\n",
    "n = int(input())    \n",
    "for i in range(0,n):\n",
    "    s = str(input())\n",
    "    l.append(s)\n",
    "filter_long_words(l)"
   ]
  },
  {
   "cell_type": "code",
   "execution_count": 9,
   "metadata": {},
   "outputs": [
    {
     "name": "stdout",
     "output_type": "stream",
     "text": [
      "[1, 3, 5, 13]\n"
     ]
    }
   ],
   "source": [
    "#1\n",
    "seq = [0, 1, 2, 3, 5, 8, 13] \n",
    "result = filter(lambda x: x % 2 != 0, seq) \n",
    "print(list(result)) \n",
    "\n"
   ]
  },
  {
   "cell_type": "code",
   "execution_count": 10,
   "metadata": {},
   "outputs": [
    {
     "name": "stdout",
     "output_type": "stream",
     "text": [
      "['A', 'C', 'A', 'D', 'G', 'I', 'L', 'D']\n",
      "['x', 'xx', 'xxx', 'xxxx', 'y', 'yy', 'yyy', 'yyyy', 'z', 'zz', 'zzz', 'zzzz']\n",
      "['x', 'y', 'z', 'xx', 'yy', 'zz', 'xxx', 'yyy', 'zzz', 'xxxx', 'yyyy', 'zzzz']\n",
      "[[2], [3], [4], [3], [4], [5], [4], [5], [6]]\n",
      "[[2, 3, 4, 5], [3, 4, 5, 6], [4, 5, 6, 7], [5, 6, 7, 8]]\n",
      "[(1, 1), (2, 1), (3, 1), (1, 2), (2, 2), (3, 2), (1, 3), (2, 3), (3, 3)]\n"
     ]
    }
   ],
   "source": [
    "#2\n",
    "l = [i for i in 'ACADGILD']\n",
    "print(l)\n",
    "list1 = [i * j for j in ['x', 'y', 'z'] for i in range(1, 5)]\n",
    "print(list1)\n",
    "list2 = [i * j for j in range(1, 5) for i in ['x', 'y', 'z']]\n",
    "print(list2)\n",
    "list3 = [[i + j] for j in [0, 1, 2] for i in range(2, 5)]\n",
    "print(list3)\n",
    "list4 = [[i + j for j in [0, 1, 2, 3]] for i in range(2, 6)]\n",
    "print(list4)\n",
    "list5 = [(i,j) for j in [1, 2, 3] for i in [1, 2, 3]]\n",
    "print(list5)"
   ]
  },
  {
   "cell_type": "code",
   "execution_count": 11,
   "metadata": {},
   "outputs": [
    {
     "name": "stdout",
     "output_type": "stream",
     "text": [
      "reduce function 6\n",
      "filter function[1, 3, 4, 5]\n"
     ]
    }
   ],
   "source": [
    "#1.2 and #1.1\n",
    "def myreduce(anyfunc, sequence):\n",
    "  result = sequence[0]\n",
    "  for item in sequence[1:]:\n",
    "   result = anyfunc(result, item)\n",
    "  return result\n",
    "\n",
    "def myfilter(anyfunc, sequence):\n",
    " result = []\n",
    " for item in sequence:\n",
    "  if anyfunc(item):\n",
    "   result.append(item)\n",
    " return result\n",
    "\n",
    "def sum(x,y): return x + y\n",
    "\n",
    "def ispositive(x):\n",
    " if (x <= 0): \n",
    "  return False \n",
    " else: \n",
    "  return True\n",
    "\n",
    "\n",
    "print (\"reduce function \"   + str(myreduce(sum, [1,2,3])) )\n",
    "print (\"filter function\"  + str(myfilter(ispositive, [0,1,-2,3,4,5])))"
   ]
  },
  {
   "cell_type": "code",
   "execution_count": null,
   "metadata": {},
   "outputs": [],
   "source": []
  }
 ],
 "metadata": {
  "kernelspec": {
   "display_name": "Python 3.7.5 64-bit",
   "language": "python",
   "name": "python37564bit1ba4f6d07d5b4960bccb84449e043f27"
  },
  "language_info": {
   "codemirror_mode": {
    "name": "ipython",
    "version": 3
   },
   "file_extension": ".py",
   "mimetype": "text/x-python",
   "name": "python",
   "nbconvert_exporter": "python",
   "pygments_lexer": "ipython3",
   "version": "3.7.5"
  }
 },
 "nbformat": 4,
 "nbformat_minor": 2
}
